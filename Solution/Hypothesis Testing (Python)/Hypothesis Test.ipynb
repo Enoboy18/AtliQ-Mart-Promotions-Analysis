{
 "cells": [
  {
   "cell_type": "code",
   "execution_count": 3,
   "id": "3ab772ba",
   "metadata": {},
   "outputs": [
    {
     "name": "stdout",
     "output_type": "stream",
     "text": [
      "Required sample size is: 306\n"
     ]
    }
   ],
   "source": [
    "import math\n",
    "\n",
    "# Population size\n",
    "N = 1500\n",
    "\n",
    "# Parameters\n",
    "Z = 1.96  # Z-value for 95% confidence level\n",
    "p = 0.5   # Estimated proportion (0.5 maximizes sample size)\n",
    "e = 0.05  # Margin of error (5%)\n",
    "\n",
    "# Sample size calculation\n",
    "numerator = N * (Z**2) * p * (1 - p)\n",
    "denominator = (N - 1) * (e**2) + (Z**2) * p * (1 - p)\n",
    "sample_size = numerator / denominator\n",
    "\n",
    "print(f\"Required sample size is: {math.ceil(sample_size)}\")\n"
   ]
  },
  {
   "cell_type": "code",
   "execution_count": 2,
   "id": "909c73d3",
   "metadata": {},
   "outputs": [
    {
     "name": "stdout",
     "output_type": "stream",
     "text": [
      "T-statistic: -21.42062224880071\n",
      "P-value: 5.0569621475158684e-89; being extremely significant so we reject the null\n",
      "There was indeed a significant increase in sales after the campaign\n"
     ]
    }
   ],
   "source": [
    "import pandas as pd\n",
    "from scipy import stats\n",
    "\n",
    "file = \"fact_events.csv\"\n",
    "df = pd.read_csv(file)\n",
    "\n",
    "before_promo = df['quantity_sold(before_promo)']\n",
    "after_promo = df['quantity_sold(after_promo)']\n",
    "\n",
    "\n",
    "t_statistic, p_value = stats.ttest_rel(before_promo, after_promo)\n",
    "\n",
    "\n",
    "print(f\"T-statistic: {t_statistic}\")\n",
    "print(f\"P-value: {p_value}; being extremely significant so we reject the null\")\n",
    "print(\"There was indeed a significant increase in sales after the campaign\")\n"
   ]
  },
  {
   "cell_type": "code",
   "execution_count": 15,
   "id": "0efc9441",
   "metadata": {},
   "outputs": [
    {
     "name": "stdout",
     "output_type": "stream",
     "text": [
      "Average quantity sold before promotion: 139.36666666666667\n",
      "Average quantity sold after promotion: 290.31533333333334\n",
      "Percentage increase in sales was: 108.31% indicating that the promotion was very successful and\n",
      "we can confidently say that the promotion had a real, measurable impact on sales,\n",
      "resulting to more than double sales increase\n"
     ]
    }
   ],
   "source": [
    "mean_before_promo = before_promo.mean()\n",
    "mean_after_promo = after_promo.mean()\n",
    "\n",
    "percentage_increase = ((mean_after_promo - mean_before_promo) / mean_before_promo) * 100\n",
    "\n",
    "\n",
    "print(f\"Average quantity sold before promotion: {mean_before_promo}\")\n",
    "print(f\"Average quantity sold after promotion: {mean_after_promo}\")\n",
    "print(f\"Percentage increase in sales was: {percentage_increase:.2f}% indicating that the promotion was very successful and\"\n",
    "      f\"\\nwe can confidently say that the promotion had a real, measurable impact on sales,\"\n",
    "      f\"\\nresulting to more than double sales increase\")\n"
   ]
  },
  {
   "cell_type": "code",
   "execution_count": null,
   "id": "eb2d9f73",
   "metadata": {},
   "outputs": [],
   "source": []
  }
 ],
 "metadata": {
  "kernelspec": {
   "display_name": "Python 3 (ipykernel)",
   "language": "python",
   "name": "python3"
  },
  "language_info": {
   "codemirror_mode": {
    "name": "ipython",
    "version": 3
   },
   "file_extension": ".py",
   "mimetype": "text/x-python",
   "name": "python",
   "nbconvert_exporter": "python",
   "pygments_lexer": "ipython3",
   "version": "3.11.4"
  }
 },
 "nbformat": 4,
 "nbformat_minor": 5
}
